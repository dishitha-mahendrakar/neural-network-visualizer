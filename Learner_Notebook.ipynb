{
 "cells": [
  {
   "cell_type": "markdown",
   "metadata": {
    "id": "8p76KVprcaCY"
   },
   "source": [
    "# Import Libraries"
   ]
  },
  {
   "cell_type": "code",
   "execution_count": 1,
   "metadata": {
    "id": "U5FNPF07caCZ"
   },
   "outputs": [],
   "source": [
    "%matplotlib inline\n",
    "\n",
    "import tensorflow as tf\n",
    "import numpy as np\n",
    "import matplotlib.pyplot as plt"
   ]
  },
  {
   "cell_type": "markdown",
   "metadata": {
    "id": "P5Uc4KprcaCZ"
   },
   "source": [
    "# Download Data"
   ]
  },
  {
   "cell_type": "code",
   "execution_count": 2,
   "metadata": {
    "colab": {
     "base_uri": "https://localhost:8080/"
    },
    "id": "cdzh3LICcaCa",
    "outputId": "ceb36a4d-515c-46a5-87b0-bbd843f97ea2"
   },
   "outputs": [],
   "source": [
    "(x_train, y_train), (x_test, y_test) = tf.keras.datasets.mnist.load_data()"
   ]
  },
  {
   "cell_type": "markdown",
   "metadata": {
    "id": "LVb3S_uVcaCa"
   },
   "source": [
    "# Plot Examples"
   ]
  },
  {
   "cell_type": "code",
   "execution_count": 3,
   "metadata": {
    "colab": {
     "base_uri": "https://localhost:8080/",
     "height": 659
    },
    "id": "V78FvVzncaCa",
    "outputId": "be00b418-95ec-474a-d995-fbace705fc93"
   },
   "outputs": [
    {
     "data": {
      "image/png": "[encoded data removed]",
      "text/plain": [
       "<Figure size 1000x1000 with 16 Axes>"
      ]
     },
     "metadata": {},
     "output_type": "display_data"
    }
   ],
   "source": [
    "plt.figure(figsize = (10, 10))\n",
    "for i in range(0, 16):\n",
    "  plt.subplot(4, 4, i + 1)\n",
    "  plt.imshow(x_train[i], cmap = 'binary')\n",
    "  plt.xlabel(str(y_train[i]))\n",
    "  plt.xticks([])\n",
    "  plt.yticks([])\n",
    "plt.show()"
   ]
  },
  {
   "cell_type": "markdown",
   "metadata": {
    "id": "K5ZpG_ejcaCa"
   },
   "source": [
    "# Normalize Data"
   ]
  },
  {
   "cell_type": "code",
   "execution_count": 4,
   "metadata": {
    "id": "Sh0dkY0CcaCa"
   },
   "outputs": [],
   "source": [
    "x_train = np.reshape(x_train, (60000, 28 * 28))\n",
    "x_test = np.reshape(x_test, (10000, 28 * 28))"
   ]
  },
  {
   "cell_type": "code",
   "execution_count": 5,
   "metadata": {
    "id": "9X2PXXYzdl0q"
   },
   "outputs": [],
   "source": [
    "x_train = x_train / 255\n",
    "x_test = x_test / 255"
   ]
  },
  {
   "cell_type": "code",
   "execution_count": 6,
   "metadata": {
    "colab": {
     "base_uri": "https://localhost:8080/"
    },
    "id": "t7GZkp9Wdx47",
    "outputId": "f2dd4883-fbdc-49be-b69f-5ba5b9a9ed23"
   },
   "outputs": [
    {
     "data": {
      "text/plain": [
       "(60000, 784)"
      ]
     },
     "execution_count": 6,
     "metadata": {},
     "output_type": "execute_result"
    }
   ],
   "source": [
    "x_train.shape"
   ]
  },
  {
   "cell_type": "markdown",
   "metadata": {
    "id": "mu6VWLXJcaCa"
   },
   "source": [
    "# Create a Neural Network Model"
   ]
  },
  {
   "cell_type": "code",
   "execution_count": 7,
   "metadata": {
    "id": "N3noFv8KcaCa"
   },
   "outputs": [],
   "source": [
    "model = tf.keras.models.Sequential([\n",
    "    tf.keras.layers.Dense(32, activation = 'sigmoid', input_shape = (784, )),\n",
    "    tf.keras.layers.Dense(32, activation = 'sigmoid'),\n",
    "    tf.keras.layers.Dense(10, activation = 'softmax')\n",
    "])"
   ]
  },
  {
   "cell_type": "code",
   "execution_count": 8,
   "metadata": {
    "id": "k5ak1duieOKf"
   },
   "outputs": [],
   "source": [
    "model.compile(\n",
    "    loss = 'sparse_categorical_crossentropy',\n",
    "    optimizer = 'adam',\n",
    "    metrics = ['accuracy']\n",
    ")"
   ]
  },
  {
   "cell_type": "markdown",
   "metadata": {
    "id": "TwotszRZcaCa"
   },
   "source": [
    "# Train the Model"
   ]
  },
  {
   "cell_type": "code",
   "execution_count": 9,
   "metadata": {
    "colab": {
     "base_uri": "https://localhost:8080/"
    },
    "id": "S4hPNZRqcaCa",
    "outputId": "7451774d-45dc-4c48-e7bd-212cb97c94c9"
   },
   "outputs": [
    {
     "name": "stdout",
     "output_type": "stream",
     "text": [
      "Epoch 1/20\n"
     ]
    },
    {
     "name": "stderr",
     "output_type": "stream",
     "text": [
      "2023-08-08 01:28:06.477809: W tensorflow/tsl/platform/profile_utils/cpu_utils.cc:128] Failed to get CPU frequency: 0 Hz\n"
     ]
    },
    {
     "name": "stdout",
     "output_type": "stream",
     "text": [
      "30/30 - 0s - loss: 2.3671 - accuracy: 0.1631 - val_loss: 2.2016 - val_accuracy: 0.2260 - 428ms/epoch - 14ms/step\n",
      "Epoch 2/20\n",
      "30/30 - 0s - loss: 2.1189 - accuracy: 0.4275 - val_loss: 2.0226 - val_accuracy: 0.5836 - 124ms/epoch - 4ms/step\n",
      "Epoch 3/20\n",
      "30/30 - 0s - loss: 1.9433 - accuracy: 0.6220 - val_loss: 1.8422 - val_accuracy: 0.6610 - 116ms/epoch - 4ms/step\n",
      "Epoch 4/20\n",
      "30/30 - 0s - loss: 1.7571 - accuracy: 0.6699 - val_loss: 1.6508 - val_accuracy: 0.6941 - 124ms/epoch - 4ms/step\n",
      "Epoch 5/20\n",
      "30/30 - 0s - loss: 1.5669 - accuracy: 0.7131 - val_loss: 1.4629 - val_accuracy: 0.7378 - 136ms/epoch - 5ms/step\n",
      "Epoch 6/20\n",
      "30/30 - 0s - loss: 1.3859 - accuracy: 0.7505 - val_loss: 1.2901 - val_accuracy: 0.7798 - 137ms/epoch - 5ms/step\n",
      "Epoch 7/20\n",
      "30/30 - 0s - loss: 1.2227 - accuracy: 0.7893 - val_loss: 1.1370 - val_accuracy: 0.8098 - 132ms/epoch - 4ms/step\n",
      "Epoch 8/20\n",
      "30/30 - 0s - loss: 1.0794 - accuracy: 0.8157 - val_loss: 1.0040 - val_accuracy: 0.8349 - 138ms/epoch - 5ms/step\n",
      "Epoch 9/20\n",
      "30/30 - 0s - loss: 0.9550 - accuracy: 0.8398 - val_loss: 0.8890 - val_accuracy: 0.8531 - 139ms/epoch - 5ms/step\n",
      "Epoch 10/20\n",
      "30/30 - 0s - loss: 0.8478 - accuracy: 0.8560 - val_loss: 0.7910 - val_accuracy: 0.8690 - 138ms/epoch - 5ms/step\n",
      "Epoch 11/20\n",
      "30/30 - 0s - loss: 0.7567 - accuracy: 0.8679 - val_loss: 0.7083 - val_accuracy: 0.8767 - 134ms/epoch - 4ms/step\n",
      "Epoch 12/20\n",
      "30/30 - 0s - loss: 0.6804 - accuracy: 0.8766 - val_loss: 0.6399 - val_accuracy: 0.8829 - 130ms/epoch - 4ms/step\n",
      "Epoch 13/20\n",
      "30/30 - 0s - loss: 0.6169 - accuracy: 0.8842 - val_loss: 0.5837 - val_accuracy: 0.8889 - 125ms/epoch - 4ms/step\n",
      "Epoch 14/20\n",
      "30/30 - 0s - loss: 0.5647 - accuracy: 0.8896 - val_loss: 0.5372 - val_accuracy: 0.8932 - 141ms/epoch - 5ms/step\n",
      "Epoch 15/20\n",
      "30/30 - 0s - loss: 0.5214 - accuracy: 0.8946 - val_loss: 0.4987 - val_accuracy: 0.8975 - 134ms/epoch - 4ms/step\n",
      "Epoch 16/20\n",
      "30/30 - 0s - loss: 0.4852 - accuracy: 0.8988 - val_loss: 0.4672 - val_accuracy: 0.9012 - 139ms/epoch - 5ms/step\n",
      "Epoch 17/20\n",
      "30/30 - 0s - loss: 0.4545 - accuracy: 0.9030 - val_loss: 0.4402 - val_accuracy: 0.9044 - 141ms/epoch - 5ms/step\n",
      "Epoch 18/20\n",
      "30/30 - 0s - loss: 0.4284 - accuracy: 0.9061 - val_loss: 0.4172 - val_accuracy: 0.9076 - 133ms/epoch - 4ms/step\n",
      "Epoch 19/20\n",
      "30/30 - 0s - loss: 0.4057 - accuracy: 0.9092 - val_loss: 0.3971 - val_accuracy: 0.9108 - 149ms/epoch - 5ms/step\n",
      "Epoch 20/20\n",
      "30/30 - 0s - loss: 0.3861 - accuracy: 0.9119 - val_loss: 0.3798 - val_accuracy: 0.9130 - 143ms/epoch - 5ms/step\n"
     ]
    }
   ],
   "source": [
    "_ = model.fit(\n",
    "    x_train, y_train,\n",
    "    validation_data = (x_test, y_test),\n",
    "    epochs = 20,\n",
    "    batch_size = 2048,\n",
    "    verbose = 2\n",
    ")"
   ]
  },
  {
   "cell_type": "markdown",
   "metadata": {
    "id": "b7yujscecaCa"
   },
   "source": [
    "# Save the Model"
   ]
  },
  {
   "cell_type": "code",
   "execution_count": 10,
   "metadata": {
    "id": "qcEV44EdcaCa"
   },
   "outputs": [],
   "source": [
    "model.save('model.h5')"
   ]
  },
  {
   "cell_type": "markdown",
   "metadata": {
    "id": "v07z3MRGcaCa"
   },
   "source": [
    "# ML Server"
   ]
  },
  {
   "cell_type": "code",
   "execution_count": 14,
   "metadata": {
    "colab": {
     "base_uri": "https://localhost:8080/"
    },
    "id": "gU5PGXPBcaCa",
    "outputId": "ea216e51-c298-42d6-f0b6-d3cd558075c9"
   },
   "outputs": [
    {
     "name": "stdout",
     "output_type": "stream",
     "text": [
      "Overwriting ml_server.py\n"
     ]
    }
   ],
   "source": [
    "%%writefile ml_server.py\n",
    "\n",
    "import json\n",
    "import tensorflow as tf\n",
    "import numpy as np\n",
    "import random\n",
    "\n",
    "from flask import Flask, request\n",
    "\n",
    "app = Flask(__name__)\n",
    "\n",
    "model = tf.keras.models.load_model('model.h5')\n",
    "feature_model = tf.keras.models.Model(\n",
    "  model.inputs,\n",
    "  [layer.output for layer in model.layers]\n",
    ")\n",
    "\n",
    "_, (x_test, _) = tf.keras.datasets.mnist.load_data()\n",
    "x_test = x_test / 255.\n",
    "\n",
    "def get_prediction():\n",
    "  index = np.random.choice(x_test.shape[0])\n",
    "  image = x_test[index, :, :]\n",
    "  image_arr = np.reshape(image, (1, 784))\n",
    "  return feature_model.predict(image_arr), image\n",
    "\n",
    "@app.route('/', methods = ['GET', 'POST'])\n",
    "def index():\n",
    "  if request.method == 'POST':\n",
    "    preds, image = get_prediction()\n",
    "    final_preds = [p.tolist() for p in preds]\n",
    "    return json.dumps({\n",
    "      'prediction' : final_preds,\n",
    "      'image' : image.tolist()\n",
    "    })\n",
    "  return 'Welcome to the model server! '\n",
    "\n",
    "if __name__ == '__main__':\n",
    "  app.run()\n",
    "\n"
   ]
  },
  {
   "cell_type": "markdown",
   "metadata": {
    "id": "ghau_KoJcaCa"
   },
   "source": [
    "# Streamlit Web App"
   ]
  },
  {
   "cell_type": "code",
   "execution_count": 19,
   "metadata": {
    "id": "C0BD00M1caCa"
   },
   "outputs": [
    {
     "name": "stdout",
     "output_type": "stream",
     "text": [
      "Overwriting app.py\n"
     ]
    }
   ],
   "source": [
    "%%writefile app.py\n",
    "\n",
    "import json\n",
    "import streamlit as st \n",
    "import requests\n",
    "import matplotlib.pyplot as plt \n",
    "import numpy as np\n",
    "\n",
    "\n",
    "URI='http://127.0.0.1:5000'\n",
    "\n",
    "st.title('Neural Network Visualizer')\n",
    "st.sidebar.markdown('## Input Image')\n",
    "st.set_option('deprecation.showPyplotGlobalUse', False)\n",
    "\n",
    "\n",
    "if st.button('Get random prediction'):\n",
    "  response =  requests.post(URI, data={})\n",
    "  response = json.loads(response.text)\n",
    "  preds = response.get('prediction')\n",
    "  image = response.get('image')\n",
    "  image = np.reshape(image, (28,28))\n",
    "  \n",
    "  st.sidebar.image(image, width = 150)\n",
    "  \n",
    "  for layer, p in enumerate(preds):\n",
    "    numbers = np.squeeze(np.array(p))\n",
    "    \n",
    "    plt.figure(figsize = (32, 4))\n",
    "    \n",
    "    if layer == 2:\n",
    "      row = 1\n",
    "      col = 10\n",
    "    else:\n",
    "      row = 2\n",
    "      col = 16\n",
    "    \n",
    "    for i, number in enumerate(numbers): \n",
    "      plt.subplot(row, col, i + 1)\n",
    "\n",
    "      plt.imshow(number * np.ones((8, 8, 3)).astype('float32'))\n",
    "\n",
    "      plt.xticks([]) \n",
    "      plt.yticks([])\n",
    "\n",
    "      if layer == 2:\n",
    "\n",
    "        plt.xlabel(str(i), fontsize=40)\n",
    "\n",
    "    plt.subplots_adjust(wspace=0.05, hspace=0.05) \n",
    "    plt.tight_layout()\n",
    "    st.text('Layer {}'.format(i + 1))\n",
    "    st.pyplot()\n",
    "\n"
   ]
  },
  {
   "cell_type": "code",
   "execution_count": null,
   "metadata": {},
   "outputs": [],
   "source": []
  }
 ],
 "metadata": {
  "accelerator": "GPU",
  "colab": {
   "gpuType": "T4",
   "provenance": []
  },
  "kernelspec": {
   "display_name": "Python 3 (ipykernel)",
   "language": "python",
   "name": "python3"
  },
  "language_info": {
   "codemirror_mode": {
    "name": "ipython",
    "version": 3
   },
   "file_extension": ".py",
   "mimetype": "text/x-python",
   "name": "python",
   "nbconvert_exporter": "python",
   "pygments_lexer": "ipython3",
   "version": "3.8.13"
  }
 },
 "nbformat": 4,
 "nbformat_minor": 1
}
